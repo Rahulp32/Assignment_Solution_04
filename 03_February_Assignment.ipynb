{
 "cells": [
  {
   "cell_type": "markdown",
   "id": "13878b84-b5b0-43c5-b995-223323e42568",
   "metadata": {},
   "source": [
    "# 03 February Python Assignment"
   ]
  },
  {
   "cell_type": "markdown",
   "id": "5b3636dd-48aa-4bb1-b331-f0b2a8697f17",
   "metadata": {},
   "source": [
    "## Q1. Which keyword is used to create a function? Create a function to return a list of odd numbers in the range of 1 to 25."
   ]
  },
  {
   "cell_type": "markdown",
   "id": "9184f041-68a7-4d4b-bebb-c80ceb83d19f",
   "metadata": {},
   "source": [
    "Creating a Function to Return Odd Numbers in the Range of 1 to 25"
   ]
  },
  {
   "cell_type": "code",
   "execution_count": 9,
   "id": "1efaf651-b6d8-440a-994a-a0a47536f0eb",
   "metadata": {},
   "outputs": [
    {
     "name": "stdout",
     "output_type": "stream",
     "text": [
      "[1, 3, 5, 7, 9, 11, 13, 15, 17, 19, 21, 23, 25]\n"
     ]
    }
   ],
   "source": [
    "# Function to return a list of odd numbers\n",
    "def get_odd_numbers():\n",
    "    return [num for num in range(1, 26) if num % 2 != 0]\n",
    "\n",
    "# Call the function\n",
    "odd_numbers = get_odd_numbers()\n",
    "print(odd_numbers)\n"
   ]
  },
  {
   "cell_type": "code",
   "execution_count": null,
   "id": "a1a6b30a-d65a-4e46-9f76-ca39f9d1e53d",
   "metadata": {},
   "outputs": [],
   "source": []
  },
  {
   "cell_type": "markdown",
   "id": "1a7a4624-1644-47e8-aff9-b804a2cc5aff",
   "metadata": {},
   "source": [
    "## Q2. Why *args and **kwargs is used in some functions? Create a function each for *args and **kwargs to demonstrate their use."
   ]
  },
  {
   "cell_type": "markdown",
   "id": "4ef3ae84-ff2c-4619-b815-547c2ec5b2e8",
   "metadata": {},
   "source": [
    "#### *args: Used to pass a variable number of positional arguments to a function.\n"
   ]
  },
  {
   "cell_type": "markdown",
   "id": "8fd164a7-9b0a-42c5-8559-6cc8c4a48f80",
   "metadata": {},
   "source": [
    "#### **kwargs: Used to pass a variable number of keyword arguments to a function."
   ]
  },
  {
   "cell_type": "markdown",
   "id": "ba69cc1d-e941-4d2d-bb3b-a72548f65f60",
   "metadata": {},
   "source": [
    "#### Example with *args:"
   ]
  },
  {
   "cell_type": "code",
   "execution_count": 20,
   "id": "90837c9b-d74d-476f-bd4d-416d985f1f9c",
   "metadata": {},
   "outputs": [
    {
     "name": "stdout",
     "output_type": "stream",
     "text": [
      "15\n"
     ]
    }
   ],
   "source": [
    "def sum_numbers(*args):\n",
    "    return sum(args)\n",
    "\n",
    "print(sum_numbers(1, 2, 3, 4, 5))  # Output: 15\n"
   ]
  },
  {
   "cell_type": "markdown",
   "id": "c85e878c-2cc9-41ec-94e2-1a429f759a84",
   "metadata": {},
   "source": [
    "#### Example with **kwargs:"
   ]
  },
  {
   "cell_type": "code",
   "execution_count": 23,
   "id": "46a914e5-d8c5-4622-8981-d45b98b8b150",
   "metadata": {},
   "outputs": [
    {
     "name": "stdout",
     "output_type": "stream",
     "text": [
      "name: Alice\n",
      "age: 25\n",
      "city: New York\n"
     ]
    }
   ],
   "source": [
    "def print_details(**kwargs):\n",
    "    for key, value in kwargs.items():\n",
    "        print(f\"{key}: {value}\")\n",
    "\n",
    "print_details(name=\"Alice\", age=25, city=\"New York\")\n"
   ]
  },
  {
   "cell_type": "code",
   "execution_count": null,
   "id": "84fe8427-643d-413f-accb-13a9ca3d7574",
   "metadata": {},
   "outputs": [],
   "source": []
  },
  {
   "cell_type": "markdown",
   "id": "beb04231-15a5-4abd-823b-2ec7ff0bf473",
   "metadata": {},
   "source": [
    "## Q3. What is an iterator in python? Name the method used to initialise the iterator object and the method used for iteration. "
   ]
  },
  {
   "cell_type": "markdown",
   "id": "708cdc8a-8063-4ebb-8f8e-2c170ed81064",
   "metadata": {},
   "source": [
    "## Use these methods to print the first five elements of the given list [2, 4, 6, 8, 10, 12, 14, 16, 18, 20]."
   ]
  },
  {
   "cell_type": "markdown",
   "id": "fd2ee88a-44e5-412b-9048-0d638111b8df",
   "metadata": {},
   "source": [
    "#### An iterator is an object that can be iterated upon (traversed element by element).\n",
    "#### An Iterator object is something that contains a countable number of values.\n",
    "#### And You can traverse through all the value from from beginning to the end.\n",
    "#### Methods:\n",
    "#### (1). __iter__(): Initializes the iterator object.\n",
    "#### (2). __next__(): Retrieves the next element in the sequence.\n",
    "####  Example:"
   ]
  },
  {
   "cell_type": "code",
   "execution_count": 31,
   "id": "ea465f6e-8ca5-4890-9c60-b71cf9864cf1",
   "metadata": {},
   "outputs": [
    {
     "name": "stdout",
     "output_type": "stream",
     "text": [
      "2\n",
      "4\n",
      "6\n",
      "8\n",
      "10\n"
     ]
    }
   ],
   "source": [
    "# List\n",
    "numbers = [2, 4, 6, 8, 10, 12, 14, 16, 18, 20]\n",
    "\n",
    "# Create an iterator\n",
    "iterator = iter(numbers)\n",
    "\n",
    "# Print the first five elements\n",
    "for _ in range(5):\n",
    "    print(next(iterator))\n"
   ]
  },
  {
   "cell_type": "code",
   "execution_count": null,
   "id": "ce627bdb-bf0b-4be4-ae2d-5f1817d8d3ee",
   "metadata": {},
   "outputs": [],
   "source": []
  },
  {
   "cell_type": "markdown",
   "id": "d3ec4ac0-cc95-4259-8067-71ea16f752e4",
   "metadata": {},
   "source": [
    "## Q4. What is a generator function in python? Why yield keyword is used? Give an example of a generator function."
   ]
  },
  {
   "cell_type": "markdown",
   "id": "5e391d74-84f9-4fd3-8a25-f0ba57906bea",
   "metadata": {},
   "source": [
    "#### A generator function is a special function that returns a generator iterator.\n",
    "#### Yield: Used to produce a value and pause the function’s execution, allowing it to resume from the same point.\n"
   ]
  },
  {
   "cell_type": "raw",
   "id": "2cdc7d9d-0075-4f78-98ed-79d0357cbda4",
   "metadata": {},
   "source": [
    "A generator function in Python is a special type of function that uses the yield keyword to produce a sequence of values one at a time, \n",
    "instead of returning them all at once. \n",
    "When a generator function is called, it returns a generator object, which can be iterated over to retrieve the values.\n",
    "\n",
    "Key Features of Generator Functions:\n",
    "Lazy Evaluation: Values are generated on-the-fly, saving memory.\n",
    "State Retention: The function retains its state between yield calls, allowing the next execution to resume from where it left off.\n",
    "Used for Infinite or Large Sequences: Ideal for handling large datasets or infinite sequences."
   ]
  },
  {
   "cell_type": "markdown",
   "id": "916a25f6-0077-46c3-8fc4-914bfd8a4e26",
   "metadata": {},
   "source": [
    "#### Example: "
   ]
  },
  {
   "cell_type": "code",
   "execution_count": 40,
   "id": "a10a894c-e5c1-427e-b2ec-9ebfaa70459a",
   "metadata": {},
   "outputs": [
    {
     "name": "stdout",
     "output_type": "stream",
     "text": [
      "1\n",
      "4\n",
      "9\n",
      "16\n",
      "25\n"
     ]
    }
   ],
   "source": [
    "def generate_squares(n):\n",
    "    for i in range(1, n + 1):\n",
    "        yield i ** 2\n",
    "\n",
    "# Use the generator\n",
    "for square in generate_squares(5):\n",
    "    print(square)\n"
   ]
  },
  {
   "cell_type": "code",
   "execution_count": null,
   "id": "9b72c775-e52e-4bdc-a579-b74080d2f4b6",
   "metadata": {},
   "outputs": [],
   "source": []
  },
  {
   "cell_type": "markdown",
   "id": "f0d8d58d-3953-428b-8195-d258d386959c",
   "metadata": {},
   "source": [
    "## Q5. Create a generator function for prime numbers less than 1000. Use the next() method to print the first 20 prime numbers."
   ]
  },
  {
   "cell_type": "markdown",
   "id": "f41a7d0e-43c4-4936-a96d-59ed7691f204",
   "metadata": {},
   "source": [
    "#### Generator Function for Prime Numbers Less Than 1000"
   ]
  },
  {
   "cell_type": "code",
   "execution_count": 46,
   "id": "4979b37a-d767-4e18-9293-9342fcdd96f4",
   "metadata": {},
   "outputs": [
    {
     "name": "stdout",
     "output_type": "stream",
     "text": [
      "2\n",
      "3\n",
      "5\n",
      "7\n",
      "11\n",
      "13\n",
      "17\n",
      "19\n",
      "23\n",
      "29\n",
      "31\n",
      "37\n",
      "41\n",
      "43\n",
      "47\n",
      "53\n",
      "59\n",
      "61\n",
      "67\n",
      "71\n"
     ]
    }
   ],
   "source": [
    "def prime_generator():\n",
    "    for num in range(2, 1000):\n",
    "        if all(num % i != 0 for i in range(2, int(num ** 0.5) + 1)):\n",
    "            yield num\n",
    "\n",
    "# Use the generator\n",
    "primes = prime_generator()\n",
    "for _ in range(20):\n",
    "    print(next(primes))\n"
   ]
  },
  {
   "cell_type": "code",
   "execution_count": null,
   "id": "997f05aa-721c-47b7-bd84-13292622ca73",
   "metadata": {},
   "outputs": [],
   "source": []
  },
  {
   "cell_type": "markdown",
   "id": "ea6fb7f6-a08f-452d-b658-359c4ff35ee8",
   "metadata": {},
   "source": [
    "## Q6. Write a python program to print the first 10 Fibonacci numbers using a while loop."
   ]
  },
  {
   "cell_type": "code",
   "execution_count": 50,
   "id": "efb4d2d3-43eb-4034-8a14-8a40dfa8d56e",
   "metadata": {},
   "outputs": [
    {
     "name": "stdout",
     "output_type": "stream",
     "text": [
      "0 1 1 2 3 5 8 13 21 34 "
     ]
    }
   ],
   "source": [
    "# Fibonacci sequence\n",
    "a, b = 0, 1\n",
    "count = 0\n",
    "\n",
    "while count < 10:\n",
    "    print(a, end=\" \")\n",
    "    a, b = b, a + b\n",
    "    count += 1\n"
   ]
  },
  {
   "cell_type": "code",
   "execution_count": null,
   "id": "53c548f2-7484-4086-9e06-f60106bceac4",
   "metadata": {},
   "outputs": [],
   "source": []
  },
  {
   "cell_type": "markdown",
   "id": "d163ec7e-5dba-4b2d-9b4a-2a8251e3495f",
   "metadata": {},
   "source": [
    "## Q7. Write a List Comprehension to iterate through the given string: ‘pwskills’.\n",
    "## Expected output: ['p', 'w', 's', 'k', 'i', 'l', 'l', 's']"
   ]
  },
  {
   "cell_type": "code",
   "execution_count": 54,
   "id": "43c7bf54-3f41-45fd-bd27-78c5edbc1c1f",
   "metadata": {},
   "outputs": [
    {
     "name": "stdout",
     "output_type": "stream",
     "text": [
      "['p', 'w', 's', 'k', 'i', 'l', 'l', 's']\n"
     ]
    }
   ],
   "source": [
    "# Given string\n",
    "string = \"pwskills\"\n",
    "\n",
    "# List comprehension\n",
    "output = [char for char in string]\n",
    "\n",
    "print(output)\n"
   ]
  },
  {
   "cell_type": "code",
   "execution_count": null,
   "id": "d76c1472-d88e-41bc-817e-b9b0c572288b",
   "metadata": {},
   "outputs": [],
   "source": []
  },
  {
   "cell_type": "markdown",
   "id": "aa866453-3281-4317-8e0d-53736d829c14",
   "metadata": {},
   "source": [
    "## Q8. Write a python program to check whether a given number is Palindrome or not by using a while loop."
   ]
  },
  {
   "cell_type": "code",
   "execution_count": 59,
   "id": "02373a44-2cf3-41d0-a62c-7f693906690c",
   "metadata": {},
   "outputs": [
    {
     "name": "stdout",
     "output_type": "stream",
     "text": [
      "121 is a palindrome: True\n"
     ]
    }
   ],
   "source": [
    "# Check if a number is a palindrome\n",
    "def is_palindrome(number):\n",
    "    original = number\n",
    "    reverse = 0\n",
    "    while number > 0:\n",
    "        digit = number % 10\n",
    "        reverse = reverse * 10 + digit\n",
    "        number //= 10\n",
    "    return original == reverse\n",
    "\n",
    "# Test the function\n",
    "num = 121\n",
    "print(f\"{num} is a palindrome: {is_palindrome(num)}\")\n"
   ]
  },
  {
   "cell_type": "code",
   "execution_count": null,
   "id": "5687b006-4fcc-414c-a09c-d3acb4e4d279",
   "metadata": {},
   "outputs": [],
   "source": []
  },
  {
   "cell_type": "markdown",
   "id": "eead4426-7c73-40cf-a4e2-58d2ed7556a0",
   "metadata": {},
   "source": [
    "## Q9. Write a code to print odd numbers from 1 to 100 using list comprehension.\n",
    "#### Note: Use a list comprehension to create a list from 1 to 100 and use another List comprehension to filter out odd numbers."
   ]
  },
  {
   "cell_type": "code",
   "execution_count": 63,
   "id": "b2156e57-2bc2-4d5c-8d49-2d93b467b479",
   "metadata": {},
   "outputs": [
    {
     "name": "stdout",
     "output_type": "stream",
     "text": [
      "[1, 3, 5, 7, 9, 11, 13, 15, 17, 19, 21, 23, 25, 27, 29, 31, 33, 35, 37, 39, 41, 43, 45, 47, 49, 51, 53, 55, 57, 59, 61, 63, 65, 67, 69, 71, 73, 75, 77, 79, 81, 83, 85, 87, 89, 91, 93, 95, 97, 99]\n"
     ]
    }
   ],
   "source": [
    "# List of numbers from 1 to 100\n",
    "numbers = [num for num in range(1, 101)]\n",
    "\n",
    "# Filter odd numbers\n",
    "odd_numbers = [num for num in numbers if num % 2 != 0]\n",
    "\n",
    "print(odd_numbers)\n"
   ]
  },
  {
   "cell_type": "code",
   "execution_count": null,
   "id": "dacbd9c8-39ef-4eb8-b7c0-39cf32169cd4",
   "metadata": {},
   "outputs": [],
   "source": []
  }
 ],
 "metadata": {
  "kernelspec": {
   "display_name": "Python 3 (ipykernel)",
   "language": "python",
   "name": "python3"
  },
  "language_info": {
   "codemirror_mode": {
    "name": "ipython",
    "version": 3
   },
   "file_extension": ".py",
   "mimetype": "text/x-python",
   "name": "python",
   "nbconvert_exporter": "python",
   "pygments_lexer": "ipython3",
   "version": "3.11.7"
  }
 },
 "nbformat": 4,
 "nbformat_minor": 5
}
